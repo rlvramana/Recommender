{
 "cells": [
  {
   "cell_type": "code",
   "execution_count": null,
   "id": "386f5700",
   "metadata": {},
   "outputs": [],
   "source": [
    "from pathlib import Path\n",
    "import pandas as pd\n",
    "from collections import Counter\n",
    "\n",
    "# Paths\n",
    "DATA_PATH = Path('data/yelp_reviews.csv')\n",
    "OUT_DIR = Path('outputs')\n",
    "OUT_DIR.mkdir(exist_ok=True)\n",
    "\n",
    "assert DATA_PATH.exists(), 'Put your Yelp CSV at data/yelp_reviews.csv'\n",
    "print('CSV:', DATA_PATH)"
   ]
  },
  {
   "cell_type": "code",
   "execution_count": null,
   "id": "2226d144",
   "metadata": {},
   "outputs": [],
   "source": [
    "import re, math\n",
    "\n",
    "def _tok(x: str):\n",
    "    return re.findall(r\"[a-zA-Z][a-zA-Z']+\", str(x).lower())\n",
    "\n",
    "POS = set(\"good great excellent amazing awesome friendly fast quick tasty delicious fresh clean spotless helpful courteous love lovely perfect outstanding best recommend fantastic\".split())\n",
    "NEG = set(\"bad poor terrible awful rude slow bland cold overcooked undercooked dirty messy greasy smelly wait long disappointed worst never\".split())\n",
    "\n",
    "def load_yelp_csv(path: str) -> pd.DataFrame:\n",
    "    df = pd.read_csv(path)\n",
    "    df.columns = [c.strip().lower() for c in df.columns]\n",
    "    name_col = next((c for c in [\"restaurant\",\"name\",\"business\",\"business_name\",\"restaurant_name\"] if c in df.columns), df.columns[0])\n",
    "    rev_col  = next((c for c in [\"review\",\"text\",\"body\",\"comment\",\"reviews\"] if c in df.columns), df.columns[-1])\n",
    "    df = df[[name_col, rev_col]].rename(columns={name_col:\"restaurant\", rev_col:\"review\"})\n",
    "    df[\"restaurant\"] = df[\"restaurant\"].astype(str).str.strip()\n",
    "    df[\"review\"] = df[\"review\"].astype(str).str.replace(r\"\\\\s+\",\" \", regex=True).str.strip()\n",
    "    df = df[(df[\"restaurant\"]!=\"\") & (df[\"review\"]!=\"\")].drop_duplicates()\n",
    "    return df\n",
    "\n",
    "def build_synonyms(custom=None):\n",
    "    base = {\n",
    "        \"service\": [\"service\",\"server\",\"staff\",\"waiter\",\"waitress\",\"host\",\"friendly\",\"rude\",\"attentive\",\"quick\",\"slow\",\"speed\",\"helpful\",\"courteous\"],\n",
    "        \"food\": [\"food\",\"taste\",\"flavor\",\"delicious\",\"tasty\",\"bland\",\"overcooked\",\"undercooked\",\"fresh\",\"portion\",\"menu\",\"dish\",\"burger\",\"pizza\",\"taco\",\"fries\",\"salad\",\"sauce\"],\n",
    "        \"cleanliness\": [\"clean\",\"dirty\",\"messy\",\"sanitary\",\"hygiene\",\"spotless\",\"sticky\",\"tidy\",\"restroom\",\"bathroom\",\"trash\",\"smell\",\"odor\",\"greasy\"],\n",
    "        \"location\": [\"location\",\"parking\",\"lot\",\"easy\",\"nearby\",\"close\",\"downtown\",\"drive-thru\",\"drive through\",\"drive thru\",\"line\",\"wait\",\"busy\",\"crowded\",\"find\",\"distance\"],\n",
    "    }\n",
    "    if custom:\n",
    "        for k,v in custom.items():\n",
    "            if k in base and isinstance(v, list) and v:\n",
    "                base[k] = v\n",
    "    return base\n",
    "\n",
    "def frequency_after_merge(df, synonyms):\n",
    "    vocab_to_attr = {w: a for a, ws in synonyms.items() for w in ws}\n",
    "    rows = []\n",
    "    from collections import Counter\n",
    "    buckets = {k: Counter() for k in synonyms}\n",
    "    for txt in df[\"review\"]:\n",
    "        for w in _tok(txt):\n",
    "            a = vocab_to_attr.get(w)\n",
    "            if a:\n",
    "                buckets[a][w] += 1\n",
    "    for a, cnt in buckets.items():\n",
    "        tot = sum(cnt.values())\n",
    "        for w, n in cnt.most_common():\n",
    "            rows.append({\"attribute\": a, \"word\": w, \"count\": int(n), \"attribute_total\": int(tot)})\n",
    "    out = pd.DataFrame(rows).sort_values([\"attribute\",\"count\"], ascending=[True, False], ignore_index=True)\n",
    "    return out\n",
    "\n",
    "def select_top_by_cosine(df, synonyms, top_n=200):\n",
    "    combined = \" \".join(\" \".join(ws) for ws in synonyms.values())\n",
    "    try:\n",
    "        from sklearn.feature_extraction.text import TfidfVectorizer\n",
    "        from sklearn.metrics.pairwise import cosine_similarity\n",
    "        vec = TfidfVectorizer(lowercase=True, token_pattern=r\"[a-zA-Z][a-zA-Z']+\")\n",
    "        X = vec.fit_transform([combined] + df[\"review\"].tolist())\n",
    "        sims = cosine_similarity(X[0:1], X[1:]).flatten()\n",
    "    except Exception:\n",
    "        from collections import Counter\n",
    "        def tfv(t): return Counter(_tok(t))\n",
    "        a = tfv(combined)\n",
    "        def cos(x,y):\n",
    "            ks = set(x)|set(y)\n",
    "            vx = [x.get(k,0) for k in ks]; vy = [y.get(k,0) for k in ks]\n",
    "            nx = (sum(u*u for u in vx) or 1) ** 0.5\n",
    "            ny = (sum(v*v for v in vy) or 1) ** 0.5\n",
    "            return sum(u*v for u,v in zip(vx,vy))/(nx*ny)\n",
    "        sims = [cos(a, tfv(t)) for t in df[\"review\"]]\n",
    "    out = df.copy()\n",
    "    out[\"cosine_similarity\"] = sims\n",
    "    return out.sort_values(\"cosine_similarity\", ascending=False).head(top_n).reset_index(drop=True)\n",
    "\n",
    "def sentiment_score(text):\n",
    "    toks = _tok(text)\n",
    "    if not toks: return 0.0\n",
    "    s = sum(1 if t in POS else -1 if t in NEG else 0 for t in toks)\n",
    "    return s/len(toks)\n",
    "\n",
    "def recommend_top3(top_df):\n",
    "    tmp = top_df.copy()\n",
    "    tmp[\"sentiment\"] = tmp[\"review\"].apply(sentiment_score)\n",
    "    agg = tmp.groupby(\"restaurant\", as_index=False)[\"sentiment\"].mean().rename(columns={\"sentiment\":\"avg_sentiment\"})\n",
    "    return agg.sort_values(\"avg_sentiment\", ascending=False).head(3).reset_index(drop=True)"
   ]
  },
  {
   "cell_type": "code",
   "execution_count": null,
   "id": "f815e747",
   "metadata": {},
   "outputs": [],
   "source": [
    "df = load_yelp_csv(str(DATA_PATH))\n",
    "print('Rows:', len(df), '| Unique restaurants:', df['restaurant'].nunique())\n",
    "df.head(3)"
   ]
  },
  {
   "cell_type": "code",
   "execution_count": null,
   "id": "890def67",
   "metadata": {},
   "outputs": [],
   "source": [
    "syn = build_synonyms()\n",
    "freq = frequency_after_merge(df, syn)\n",
    "freq.head(10)"
   ]
  },
  {
   "cell_type": "code",
   "execution_count": null,
   "id": "f85bf355",
   "metadata": {},
   "outputs": [],
   "source": [
    "TOP_N = 200\n",
    "selected = select_top_by_cosine(df, syn, top_n=TOP_N)\n",
    "selected[['restaurant','cosine_similarity']].head(10)"
   ]
  },
  {
   "cell_type": "code",
   "execution_count": null,
   "id": "314c5a50",
   "metadata": {},
   "outputs": [],
   "source": [
    "selected_sent = selected.copy()\n",
    "selected_sent['sentiment'] = selected_sent['review'].apply(sentiment_score)\n",
    "selected_sent[['restaurant','sentiment']].head(10)"
   ]
  },
  {
   "cell_type": "code",
   "execution_count": null,
   "id": "fdce142c",
   "metadata": {},
   "outputs": [],
   "source": [
    "top3 = recommend_top3(selected)\n",
    "top3"
   ]
  },
  {
   "cell_type": "code",
   "execution_count": null,
   "id": "214fe977",
   "metadata": {},
   "outputs": [],
   "source": [
    "freq.to_csv('outputs/frequency_table.csv', index=False)\n",
    "selected.to_csv('outputs/top200_reviews.csv', index=False)\n",
    "selected_sent.to_csv('outputs/sentiment_top200.csv', index=False)\n",
    "top3.to_csv('outputs/recommendations_top3.csv', index=False)\n",
    "print('Saved to outputs/')"
   ]
  },
  {
   "cell_type": "markdown",
   "id": "fa8bf9b9",
   "metadata": {},
   "source": [
    "## Create files for the Streamlit app"
   ]
  },
  {
   "cell_type": "code",
   "execution_count": null,
   "id": "d9aa82b9",
   "metadata": {},
   "outputs": [],
   "source": [
    "from pathlib import Path\n",
    "p_src = Path('src'); p_app = Path('app'); p_src.mkdir(exist_ok=True); p_app.mkdir(exist_ok=True)\n",
    "# Write pipeline file\n",
    "pipeline_code = open('/mnt/data/yelp_hw_project/src/yelp_pipeline.py','r').read()\n",
    "open('src/yelp_pipeline.py','w').write(pipeline_code)\n",
    "# Write app.py\n",
    "app_code = open('/mnt/data/yelp_hw_project/app/app.py','r').read()\n",
    "open('app/app.py','w').write(app_code)\n",
    "print('Wrote src/yelp_pipeline.py and app/app.py')"
   ]
  }
 ],
 "metadata": {
  "kernelspec": {
   "display_name": "yelprec",
   "language": "python",
   "name": "python3"
  },
  "language_info": {
   "name": "python",
   "version": "3.10.19"
  }
 },
 "nbformat": 4,
 "nbformat_minor": 5
}
